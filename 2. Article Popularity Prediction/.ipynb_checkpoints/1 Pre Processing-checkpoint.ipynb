{
 "cells": [
  {
   "cell_type": "code",
   "execution_count": 3,
   "metadata": {},
   "outputs": [],
   "source": [
    "import pandas as pd\n",
    "file = 'articles.csv'\n",
    "data = pd.read_csv(file,usecols=['content'])"
   ]
  },
  {
   "cell_type": "code",
   "execution_count": 5,
   "metadata": {},
   "outputs": [
    {
     "data": {
      "text/html": [
       "<div>\n",
       "<style scoped>\n",
       "    .dataframe tbody tr th:only-of-type {\n",
       "        vertical-align: middle;\n",
       "    }\n",
       "\n",
       "    .dataframe tbody tr th {\n",
       "        vertical-align: top;\n",
       "    }\n",
       "\n",
       "    .dataframe thead th {\n",
       "        text-align: right;\n",
       "    }\n",
       "</style>\n",
       "<table border=\"1\" class=\"dataframe\">\n",
       "  <thead>\n",
       "    <tr style=\"text-align: right;\">\n",
       "      <th></th>\n",
       "      <th>shares</th>\n",
       "      <th>content</th>\n",
       "    </tr>\n",
       "  </thead>\n",
       "  <tbody>\n",
       "    <tr>\n",
       "      <th>0</th>\n",
       "      <td>8600.0</td>\n",
       "      <td>Image courtesy of the author.Image courtesy of...</td>\n",
       "    </tr>\n",
       "    <tr>\n",
       "      <th>1</th>\n",
       "      <td>3800.0</td>\n",
       "      <td>Photo: Bernard Hermant/UnsplashPhoto: Bernard ...</td>\n",
       "    </tr>\n",
       "    <tr>\n",
       "      <th>2</th>\n",
       "      <td>58.0</td>\n",
       "      <td>By Molly SchwartzAt midnight on July 1, Hamza ...</td>\n",
       "    </tr>\n",
       "    <tr>\n",
       "      <th>3</th>\n",
       "      <td>583.0</td>\n",
       "      <td>I’m going to quit using Facebook to log in to ...</td>\n",
       "    </tr>\n",
       "    <tr>\n",
       "      <th>4</th>\n",
       "      <td>497.0</td>\n",
       "      <td>ChuChu TV, the company responsible for some of...</td>\n",
       "    </tr>\n",
       "  </tbody>\n",
       "</table>\n",
       "</div>"
      ],
      "text/plain": [
       "   shares                                            content\n",
       "0  8600.0  Image courtesy of the author.Image courtesy of...\n",
       "1  3800.0  Photo: Bernard Hermant/UnsplashPhoto: Bernard ...\n",
       "2    58.0  By Molly SchwartzAt midnight on July 1, Hamza ...\n",
       "3   583.0  I’m going to quit using Facebook to log in to ...\n",
       "4   497.0  ChuChu TV, the company responsible for some of..."
      ]
     },
     "execution_count": 5,
     "metadata": {},
     "output_type": "execute_result"
    }
   ],
   "source": [
    "data.head()"
   ]
  },
  {
   "cell_type": "code",
   "execution_count": 28,
   "metadata": {},
   "outputs": [],
   "source": [
    "import spacy\n",
    "nlp = spacy.load('en')\n",
    "min_token_length = 2\n",
    "def isNoise(token):     \n",
    "    is_noise = False\n",
    "    if token.is_punct == True:\n",
    "        is_noise = True \n",
    "    elif token.is_stop == True:\n",
    "        is_noise = True\n",
    "    elif token.pos_ == 'CCONJ':\n",
    "        is_noise = True\n",
    "    elif len(token.string) <= min_token_length:\n",
    "        is_noise = True\n",
    "    return is_noise \n",
    "def cleanup(token, lower = True):\n",
    "    if lower:\n",
    "       token = token.lower() \n",
    "    return token.strip()\n"
   ]
  },
  {
   "cell_type": "code",
   "execution_count": 53,
   "metadata": {},
   "outputs": [
    {
     "name": "stderr",
     "output_type": "stream",
     "text": [
      "F:\\ANA\\lib\\site-packages\\ipykernel_launcher.py:6: SettingWithCopyWarning: \n",
      "A value is trying to be set on a copy of a slice from a DataFrame\n",
      "\n",
      "See the caveats in the documentation: http://pandas.pydata.org/pandas-docs/stable/indexing.html#indexing-view-versus-copy\n",
      "  \n"
     ]
    },
    {
     "name": "stdout",
     "output_type": "stream",
     "text": [
      "Articles : 12450 / 12451 \r"
     ]
    }
   ],
   "source": [
    "import sys\n",
    "for i in data.index:\n",
    "    doc = nlp(data['content'][i])\n",
    "    cleaned_list = [cleanup(word.lemma_) for word in doc if not isNoise(word)]\n",
    "    cleaned =\" \".join(cleaned_list)\n",
    "    data['content'][i] = cleaned\n",
    "    sys.stdout.write(\"Articles : %d / %d \\r\" % (i,len(data) ))  \n",
    "    sys.stdout.flush()"
   ]
  },
  {
   "cell_type": "code",
   "execution_count": 74,
   "metadata": {},
   "outputs": [],
   "source": [
    "import nltk\n",
    "from nltk.corpus import stopwords\n",
    "mystopwords=stopwords.words(\"English\") + ['one', 'become', 'get', 'make', 'take', 'thing', '-pron-']\n",
    "WNlemma = nltk.WordNetLemmatizer()\n",
    "\n",
    "def pre_process(text):\n",
    "    tokens = nltk.word_tokenize(text)\n",
    "    tokens=[ WNlemma.lemmatize(t.lower()) for t in tokens]\n",
    "    tokens=[ t for t in tokens if t not in mystopwords]\n",
    "    toekns = [ t for t in tokens if ]\n",
    "    tokens = [ t for t in tokens if len(t) >= 3 ]\n",
    "    text_after_process=\" \".join(tokens)\n",
    "    return(text_after_process)\n"
   ]
  },
  {
   "cell_type": "code",
   "execution_count": 75,
   "metadata": {},
   "outputs": [],
   "source": [
    "text = data['content']\n",
    "toks = text.apply(pre_process)\n",
    "data['content'] = toks"
   ]
  },
  {
   "cell_type": "code",
   "execution_count": 81,
   "metadata": {},
   "outputs": [],
   "source": [
    "data['content'].to_csv('clean.csv',encoding = 'utf_8_sig',index_label='index')"
   ]
  },
  {
   "cell_type": "code",
   "execution_count": 102,
   "metadata": {},
   "outputs": [],
   "source": [
    "def filter_num(text):\n",
    "    words=nltk.word_tokenize(text)\n",
    "    pos_tags =nltk.pos_tag(words)\n",
    "    ret = []\n",
    "    for word,pos in pos_tags:\n",
    "            if (pos != 'CD'):\n",
    "                ret.append(word)\n",
    "    return ' '.join(ret)\n",
    "text = data['content'].apply(filter_num)"
   ]
  },
  {
   "cell_type": "code",
   "execution_count": 121,
   "metadata": {},
   "outputs": [],
   "source": [
    "data.to_csv('processed.csv',encoding = 'utf_8_sig',index_label='index')"
   ]
  }
 ],
 "metadata": {
  "kernelspec": {
   "display_name": "Python 3",
   "language": "python",
   "name": "python3"
  },
  "language_info": {
   "codemirror_mode": {
    "name": "ipython",
    "version": 3
   },
   "file_extension": ".py",
   "mimetype": "text/x-python",
   "name": "python",
   "nbconvert_exporter": "python",
   "pygments_lexer": "ipython3",
   "version": "3.6.5"
  }
 },
 "nbformat": 4,
 "nbformat_minor": 2
}
