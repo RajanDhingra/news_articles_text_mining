{
 "cells": [
  {
   "cell_type": "code",
   "execution_count": 264,
   "metadata": {},
   "outputs": [
    {
     "data": {
      "text/html": [
       "<div>\n",
       "<style scoped>\n",
       "    .dataframe tbody tr th:only-of-type {\n",
       "        vertical-align: middle;\n",
       "    }\n",
       "\n",
       "    .dataframe tbody tr th {\n",
       "        vertical-align: top;\n",
       "    }\n",
       "\n",
       "    .dataframe thead th {\n",
       "        text-align: right;\n",
       "    }\n",
       "</style>\n",
       "<table border=\"1\" class=\"dataframe\">\n",
       "  <thead>\n",
       "    <tr style=\"text-align: right;\">\n",
       "      <th></th>\n",
       "      <th>category</th>\n",
       "      <th>read_time</th>\n",
       "      <th>shares</th>\n",
       "      <th>content</th>\n",
       "    </tr>\n",
       "  </thead>\n",
       "  <tbody>\n",
       "    <tr>\n",
       "      <th>0</th>\n",
       "      <td>technology</td>\n",
       "      <td>8 min read</td>\n",
       "      <td>8600</td>\n",
       "      <td>image courtesy author image courtesy author se...</td>\n",
       "    </tr>\n",
       "    <tr>\n",
       "      <th>1</th>\n",
       "      <td>technology</td>\n",
       "      <td>31 min read</td>\n",
       "      <td>3800</td>\n",
       "      <td>photo bernard hermant unsplashphoto bernard he...</td>\n",
       "    </tr>\n",
       "    <tr>\n",
       "      <th>2</th>\n",
       "      <td>technology</td>\n",
       "      <td>13 min read</td>\n",
       "      <td>58</td>\n",
       "      <td>molly schwartzat midnight july hamza kwehangan...</td>\n",
       "    </tr>\n",
       "    <tr>\n",
       "      <th>3</th>\n",
       "      <td>technology</td>\n",
       "      <td>4 min read</td>\n",
       "      <td>583</td>\n",
       "      <td>quit facebook log app site online reasonable w...</td>\n",
       "    </tr>\n",
       "    <tr>\n",
       "      <th>4</th>\n",
       "      <td>technology</td>\n",
       "      <td>22 min read</td>\n",
       "      <td>497</td>\n",
       "      <td>chuchu company responsible widely view toddler...</td>\n",
       "    </tr>\n",
       "  </tbody>\n",
       "</table>\n",
       "</div>"
      ],
      "text/plain": [
       "     category    read_time  shares  \\\n",
       "0  technology   8 min read    8600   \n",
       "1  technology  31 min read    3800   \n",
       "2  technology  13 min read      58   \n",
       "3  technology   4 min read     583   \n",
       "4  technology  22 min read     497   \n",
       "\n",
       "                                             content  \n",
       "0  image courtesy author image courtesy author se...  \n",
       "1  photo bernard hermant unsplashphoto bernard he...  \n",
       "2  molly schwartzat midnight july hamza kwehangan...  \n",
       "3  quit facebook log app site online reasonable w...  \n",
       "4  chuchu company responsible widely view toddler...  "
      ]
     },
     "execution_count": 264,
     "metadata": {},
     "output_type": "execute_result"
    }
   ],
   "source": [
    "import pandas as pd\n",
    "data = pd.read_excel('processed.xlsx',usecols = 'B,F,G,H')\n",
    "data.head()"
   ]
  },
  {
   "cell_type": "markdown",
   "metadata": {},
   "source": [
    "## Data"
   ]
  },
  {
   "cell_type": "markdown",
   "metadata": {},
   "source": [
    "### process read_time & category"
   ]
  },
  {
   "cell_type": "code",
   "execution_count": 265,
   "metadata": {},
   "outputs": [],
   "source": [
    "import re\n",
    "def find_num(string):\n",
    "    r = string.split()[0]\n",
    "    return r\n",
    "\n",
    "data['read_time']= data['read_time'].apply(find_num)"
   ]
  },
  {
   "cell_type": "markdown",
   "metadata": {},
   "source": [
    "### Find optimal class"
   ]
  },
  {
   "cell_type": "code",
   "execution_count": 302,
   "metadata": {},
   "outputs": [
    {
     "data": {
      "image/png": "[encoded data removed]",
      "text/plain": [
       "<Figure size 432x288 with 1 Axes>"
      ]
     },
     "metadata": {
      "needs_background": "light"
     },
     "output_type": "display_data"
    }
   ],
   "source": [
    "import matplotlib.pyplot as plt\n",
    "plt.hist(data['shares'],bins=[0,100,1000,10000],rwidth=0.5)\n",
    "plt.xscale('log')\n",
    "plt.show()\n",
    "#so we divide shares into 3 cluster common,good,amazing"
   ]
  },
  {
   "cell_type": "code",
   "execution_count": 266,
   "metadata": {},
   "outputs": [],
   "source": [
    "def rating(shares):\n",
    "    if shares>=1000:\n",
    "        shares = 'amazing'\n",
    "    elif shares < 1000 and shares  >= 100:\n",
    "        shares = 'good'\n",
    "    elif shares  < 100:\n",
    "        shares = 'common'\n",
    "    return shares\n",
    "y = data['shares'].apply(rating)"
   ]
  },
  {
   "cell_type": "code",
   "execution_count": 267,
   "metadata": {},
   "outputs": [],
   "source": [
    "data = pd.get_dummies(data,columns=['category'])\n",
    "raw = data.drop(columns = ['shares','content'])"
   ]
  },
  {
   "cell_type": "code",
   "execution_count": 268,
   "metadata": {},
   "outputs": [
    {
     "name": "stderr",
     "output_type": "stream",
     "text": [
      "F:\\ANA\\lib\\site-packages\\sklearn\\utils\\validation.py:590: DataConversionWarning: Data with input dtype object was converted to float64 by MinMaxScaler.\n",
      "  warnings.warn(msg, DataConversionWarning)\n"
     ]
    },
    {
     "data": {
      "text/html": [
       "<div>\n",
       "<style scoped>\n",
       "    .dataframe tbody tr th:only-of-type {\n",
       "        vertical-align: middle;\n",
       "    }\n",
       "\n",
       "    .dataframe tbody tr th {\n",
       "        vertical-align: top;\n",
       "    }\n",
       "\n",
       "    .dataframe thead th {\n",
       "        text-align: right;\n",
       "    }\n",
       "</style>\n",
       "<table border=\"1\" class=\"dataframe\">\n",
       "  <thead>\n",
       "    <tr style=\"text-align: right;\">\n",
       "      <th></th>\n",
       "      <th>0</th>\n",
       "      <th>1</th>\n",
       "      <th>2</th>\n",
       "      <th>3</th>\n",
       "      <th>4</th>\n",
       "      <th>5</th>\n",
       "      <th>6</th>\n",
       "      <th>7</th>\n",
       "      <th>8</th>\n",
       "    </tr>\n",
       "  </thead>\n",
       "  <tbody>\n",
       "    <tr>\n",
       "      <th>0</th>\n",
       "      <td>0.019886</td>\n",
       "      <td>0.0</td>\n",
       "      <td>0.0</td>\n",
       "      <td>0.0</td>\n",
       "      <td>0.0</td>\n",
       "      <td>0.0</td>\n",
       "      <td>0.0</td>\n",
       "      <td>0.0</td>\n",
       "      <td>1.0</td>\n",
       "    </tr>\n",
       "    <tr>\n",
       "      <th>1</th>\n",
       "      <td>0.085227</td>\n",
       "      <td>0.0</td>\n",
       "      <td>0.0</td>\n",
       "      <td>0.0</td>\n",
       "      <td>0.0</td>\n",
       "      <td>0.0</td>\n",
       "      <td>0.0</td>\n",
       "      <td>0.0</td>\n",
       "      <td>1.0</td>\n",
       "    </tr>\n",
       "    <tr>\n",
       "      <th>2</th>\n",
       "      <td>0.034091</td>\n",
       "      <td>0.0</td>\n",
       "      <td>0.0</td>\n",
       "      <td>0.0</td>\n",
       "      <td>0.0</td>\n",
       "      <td>0.0</td>\n",
       "      <td>0.0</td>\n",
       "      <td>0.0</td>\n",
       "      <td>1.0</td>\n",
       "    </tr>\n",
       "    <tr>\n",
       "      <th>3</th>\n",
       "      <td>0.008523</td>\n",
       "      <td>0.0</td>\n",
       "      <td>0.0</td>\n",
       "      <td>0.0</td>\n",
       "      <td>0.0</td>\n",
       "      <td>0.0</td>\n",
       "      <td>0.0</td>\n",
       "      <td>0.0</td>\n",
       "      <td>1.0</td>\n",
       "    </tr>\n",
       "    <tr>\n",
       "      <th>4</th>\n",
       "      <td>0.059659</td>\n",
       "      <td>0.0</td>\n",
       "      <td>0.0</td>\n",
       "      <td>0.0</td>\n",
       "      <td>0.0</td>\n",
       "      <td>0.0</td>\n",
       "      <td>0.0</td>\n",
       "      <td>0.0</td>\n",
       "      <td>1.0</td>\n",
       "    </tr>\n",
       "  </tbody>\n",
       "</table>\n",
       "</div>"
      ],
      "text/plain": [
       "          0    1    2    3    4    5    6    7    8\n",
       "0  0.019886  0.0  0.0  0.0  0.0  0.0  0.0  0.0  1.0\n",
       "1  0.085227  0.0  0.0  0.0  0.0  0.0  0.0  0.0  1.0\n",
       "2  0.034091  0.0  0.0  0.0  0.0  0.0  0.0  0.0  1.0\n",
       "3  0.008523  0.0  0.0  0.0  0.0  0.0  0.0  0.0  1.0\n",
       "4  0.059659  0.0  0.0  0.0  0.0  0.0  0.0  0.0  1.0"
      ]
     },
     "execution_count": 268,
     "metadata": {},
     "output_type": "execute_result"
    }
   ],
   "source": [
    "from sklearn import preprocessing\n",
    "min_max_scaler = preprocessing.MinMaxScaler()\n",
    "x_scaled = min_max_scaler.fit_transform(raw.values)\n",
    "x = pd.DataFrame(x_scaled)\n",
    "x.head()"
   ]
  },
  {
   "cell_type": "markdown",
   "metadata": {},
   "source": [
    "### process content"
   ]
  },
  {
   "cell_type": "code",
   "execution_count": 269,
   "metadata": {},
   "outputs": [],
   "source": [
    "#Use Noun & Verb\n",
    "import nltk\n",
    "def get_noun(text):\n",
    "    words=nltk.word_tokenize(text)\n",
    "    pos_tags =nltk.pos_tag(words)\n",
    "    ret = []\n",
    "    for word,pos in pos_tags:\n",
    "            if (pos == 'NN'or pos =='VB'):\n",
    "                ret.append(word)\n",
    "    return ' '.join(ret)\n",
    "text = data['content'].apply(get_noun)"
   ]
  },
  {
   "cell_type": "code",
   "execution_count": 270,
   "metadata": {},
   "outputs": [],
   "source": [
    "from sklearn.decomposition import TruncatedSVD\n",
    "from sklearn.feature_extraction.text import TfidfVectorizer\n",
    "from sklearn.preprocessing import Normalizer\n",
    "from sklearn.pipeline import make_pipeline\n",
    "tf_transformer = TfidfVectorizer(max_df=0.7, min_df=8)\n",
    "svd = TruncatedSVD(3000)\n",
    "normalizer = Normalizer(copy=False)\n",
    "lsa = make_pipeline(tf_transformer, svd, normalizer)\n",
    "X_lsa = lsa.fit_transform(text)"
   ]
  },
  {
   "cell_type": "code",
   "execution_count": 271,
   "metadata": {},
   "outputs": [
    {
     "name": "stdout",
     "output_type": "stream",
     "text": [
      "Explained variance of the SVD step: 83%\n"
     ]
    }
   ],
   "source": [
    "explained_variance = svd.explained_variance_ratio_.sum()\n",
    "print(\"Explained variance of the SVD step: {}%\".format(int(explained_variance * 100)))"
   ]
  },
  {
   "cell_type": "markdown",
   "metadata": {},
   "source": [
    "### combine"
   ]
  },
  {
   "cell_type": "code",
   "execution_count": 272,
   "metadata": {},
   "outputs": [],
   "source": [
    "df = pd.DataFrame(X_lsa)\n",
    "X = pd.concat([x,df],axis =1,ignore_index=True)"
   ]
  },
  {
   "cell_type": "markdown",
   "metadata": {},
   "source": [
    "#### Share same test&train"
   ]
  },
  {
   "cell_type": "code",
   "execution_count": 273,
   "metadata": {},
   "outputs": [
    {
     "name": "stdout",
     "output_type": "stream",
     "text": [
      "(8715, 3009)\n",
      "(3736, 3009)\n"
     ]
    }
   ],
   "source": [
    "from sklearn.model_selection import train_test_split\n",
    "X_train, X_test, y_train, y_test = train_test_split(X,y,test_size=0.3)\n",
    "print (X_train.shape)\n",
    "print (X_test.shape)"
   ]
  },
  {
   "cell_type": "markdown",
   "metadata": {},
   "source": [
    "## Model"
   ]
  },
  {
   "cell_type": "markdown",
   "metadata": {},
   "source": [
    "### Just content"
   ]
  },
  {
   "cell_type": "code",
   "execution_count": 298,
   "metadata": {},
   "outputs": [
    {
     "name": "stdout",
     "output_type": "stream",
     "text": [
      "(8715, 3000)\n",
      "(3736, 3000)\n"
     ]
    }
   ],
   "source": [
    "X_train_con = X_train.filter(X_train.columns[9:], axis=1)\n",
    "X_test_con = X_test.filter(X_test.columns[9:], axis=1)\n",
    "\n",
    "print (X_train_con.shape)\n",
    "print (X_test_con.shape)"
   ]
  },
  {
   "cell_type": "code",
   "execution_count": 299,
   "metadata": {},
   "outputs": [
    {
     "name": "stderr",
     "output_type": "stream",
     "text": [
      "F:\\ANA\\lib\\site-packages\\sklearn\\linear_model\\logistic.py:432: FutureWarning: Default solver will be changed to 'lbfgs' in 0.22. Specify a solver to silence this warning.\n",
      "  FutureWarning)\n",
      "F:\\ANA\\lib\\site-packages\\sklearn\\linear_model\\logistic.py:459: FutureWarning: Default multi_class will be changed to 'auto' in 0.22. Specify the multi_class option to silence this warning.\n",
      "  \"this warning.\", FutureWarning)\n"
     ]
    },
    {
     "name": "stdout",
     "output_type": "stream",
     "text": [
      "[[ 312  111  474]\n",
      " [  65  470  670]\n",
      " [ 155  344 1135]]\n",
      "0.5131156316916489\n",
      "              precision    recall  f1-score   support\n",
      "\n",
      "     amazing       0.59      0.35      0.44       897\n",
      "      common       0.51      0.39      0.44      1205\n",
      "        good       0.50      0.69      0.58      1634\n",
      "\n",
      "   micro avg       0.51      0.51      0.51      3736\n",
      "   macro avg       0.53      0.48      0.49      3736\n",
      "weighted avg       0.52      0.51      0.50      3736\n",
      "\n"
     ]
    }
   ],
   "source": [
    "from sklearn.linear_model import LogisticRegression\n",
    "lr = LogisticRegression()\n",
    "lr.fit(X_train_con,y_train)\n",
    "from sklearn import metrics \n",
    "import numpy as np\n",
    "predicted = lr.predict(X_test_con)\n",
    "print(metrics.confusion_matrix(y_test, predicted))\n",
    "print(np.mean(predicted == y_test))\n",
    "print(metrics.classification_report(y_test, predicted))"
   ]
  },
  {
   "cell_type": "code",
   "execution_count": 300,
   "metadata": {},
   "outputs": [
    {
     "name": "stderr",
     "output_type": "stream",
     "text": [
      "F:\\ANA\\lib\\site-packages\\sklearn\\linear_model\\stochastic_gradient.py:144: FutureWarning: max_iter and tol parameters have been added in SGDClassifier in 0.19. If both are left unset, they default to max_iter=5 and tol=None. If tol is not None, max_iter defaults to max_iter=1000. From 0.21, default max_iter will be 1000, and default tol will be 1e-3.\n",
      "  FutureWarning)\n"
     ]
    },
    {
     "name": "stdout",
     "output_type": "stream",
     "text": [
      "[[360 201 336]\n",
      " [105 638 462]\n",
      " [210 576 848]]\n",
      "0.4941113490364026\n",
      "              precision    recall  f1-score   support\n",
      "\n",
      "     amazing       0.53      0.40      0.46       897\n",
      "      common       0.45      0.53      0.49      1205\n",
      "        good       0.52      0.52      0.52      1634\n",
      "\n",
      "   micro avg       0.49      0.49      0.49      3736\n",
      "   macro avg       0.50      0.48      0.49      3736\n",
      "weighted avg       0.50      0.49      0.49      3736\n",
      "\n"
     ]
    }
   ],
   "source": [
    "from sklearn.linear_model import SGDClassifier\n",
    "sg = SGDClassifier()\n",
    "sg.fit(X_train_con,y_train)\n",
    "from sklearn import metrics \n",
    "import numpy as np\n",
    "predicted = sg.predict(X_test_con)\n",
    "print(metrics.confusion_matrix(y_test, predicted))\n",
    "print(np.mean(predicted == y_test))\n",
    "print(metrics.classification_report(y_test, predicted))"
   ]
  },
  {
   "cell_type": "code",
   "execution_count": 301,
   "metadata": {},
   "outputs": [
    {
     "name": "stdout",
     "output_type": "stream",
     "text": [
      "[[ 249   86  562]\n",
      " [  47  407  751]\n",
      " [  91  283 1260]]\n",
      "0.512847965738758\n",
      "              precision    recall  f1-score   support\n",
      "\n",
      "     amazing       0.64      0.28      0.39       897\n",
      "      common       0.52      0.34      0.41      1205\n",
      "        good       0.49      0.77      0.60      1634\n",
      "\n",
      "   micro avg       0.51      0.51      0.51      3736\n",
      "   macro avg       0.55      0.46      0.47      3736\n",
      "weighted avg       0.54      0.51      0.49      3736\n",
      "\n"
     ]
    }
   ],
   "source": [
    "from sklearn.linear_model import RidgeClassifierCV\n",
    "rc = RidgeClassifierCV()\n",
    "rc.fit(X_train_con,y_train)\n",
    "from sklearn import metrics \n",
    "import numpy as np\n",
    "predicted = rc.predict(X_test_con)\n",
    "print(metrics.confusion_matrix(y_test, predicted))\n",
    "print(np.mean(predicted == y_test))\n",
    "print(metrics.classification_report(y_test, predicted))"
   ]
  },
  {
   "cell_type": "markdown",
   "metadata": {},
   "source": [
    "### Add variable: read_time & category(filter off popular)"
   ]
  },
  {
   "cell_type": "code",
   "execution_count": 287,
   "metadata": {},
   "outputs": [
    {
     "name": "stdout",
     "output_type": "stream",
     "text": [
      "(8715, 3008)\n",
      "(3736, 3008)\n"
     ]
    }
   ],
   "source": [
    "X_train_p = X_train.drop(X_train.columns[5], axis=1)\n",
    "X_test_p = X_test.drop(X_test.columns[5], axis=1)\n",
    "\n",
    "print (X_train_p.shape)\n",
    "print (X_test_p.shape)"
   ]
  },
  {
   "cell_type": "code",
   "execution_count": 290,
   "metadata": {},
   "outputs": [
    {
     "name": "stderr",
     "output_type": "stream",
     "text": [
      "F:\\ANA\\lib\\site-packages\\sklearn\\linear_model\\logistic.py:432: FutureWarning: Default solver will be changed to 'lbfgs' in 0.22. Specify a solver to silence this warning.\n",
      "  FutureWarning)\n",
      "F:\\ANA\\lib\\site-packages\\sklearn\\linear_model\\logistic.py:459: FutureWarning: Default multi_class will be changed to 'auto' in 0.22. Specify the multi_class option to silence this warning.\n",
      "  \"this warning.\", FutureWarning)\n"
     ]
    },
    {
     "name": "stdout",
     "output_type": "stream",
     "text": [
      "[[ 375   90  432]\n",
      " [  17  485  703]\n",
      " [  80  360 1194]]\n",
      "0.5497858672376874\n",
      "              precision    recall  f1-score   support\n",
      "\n",
      "     amazing       0.79      0.42      0.55       897\n",
      "      common       0.52      0.40      0.45      1205\n",
      "        good       0.51      0.73      0.60      1634\n",
      "\n",
      "   micro avg       0.55      0.55      0.55      3736\n",
      "   macro avg       0.61      0.52      0.53      3736\n",
      "weighted avg       0.58      0.55      0.54      3736\n",
      "\n"
     ]
    }
   ],
   "source": [
    "from sklearn.linear_model import LogisticRegression\n",
    "lr = LogisticRegression()\n",
    "lr.fit(X_train_p,y_train)\n",
    "from sklearn import metrics \n",
    "import numpy as np\n",
    "predicted = lr.predict(X_test_p)\n",
    "print(metrics.confusion_matrix(y_test, predicted))\n",
    "print(np.mean(predicted == y_test))\n",
    "print(metrics.classification_report(y_test, predicted))"
   ]
  },
  {
   "cell_type": "code",
   "execution_count": 291,
   "metadata": {},
   "outputs": [
    {
     "name": "stderr",
     "output_type": "stream",
     "text": [
      "F:\\ANA\\lib\\site-packages\\sklearn\\linear_model\\stochastic_gradient.py:144: FutureWarning: max_iter and tol parameters have been added in SGDClassifier in 0.19. If both are left unset, they default to max_iter=5 and tol=None. If tol is not None, max_iter defaults to max_iter=1000. From 0.21, default max_iter will be 1000, and default tol will be 1e-3.\n",
      "  FutureWarning)\n"
     ]
    },
    {
     "name": "stdout",
     "output_type": "stream",
     "text": [
      "[[ 333   48  516]\n",
      " [  12  239  954]\n",
      " [  46  172 1416]]\n",
      "0.5321199143468951\n",
      "              precision    recall  f1-score   support\n",
      "\n",
      "     amazing       0.85      0.37      0.52       897\n",
      "      common       0.52      0.20      0.29      1205\n",
      "        good       0.49      0.87      0.63      1634\n",
      "\n",
      "   micro avg       0.53      0.53      0.53      3736\n",
      "   macro avg       0.62      0.48      0.48      3736\n",
      "weighted avg       0.59      0.53      0.49      3736\n",
      "\n"
     ]
    }
   ],
   "source": [
    "from sklearn.linear_model import SGDClassifier\n",
    "sg = SGDClassifier()\n",
    "sg.fit(X_train_p,y_train)\n",
    "from sklearn import metrics \n",
    "import numpy as np\n",
    "predicted = sg.predict(X_test_p)\n",
    "print(metrics.confusion_matrix(y_test, predicted))\n",
    "print(np.mean(predicted == y_test))\n",
    "print(metrics.classification_report(y_test, predicted))"
   ]
  },
  {
   "cell_type": "code",
   "execution_count": 293,
   "metadata": {},
   "outputs": [
    {
     "name": "stdout",
     "output_type": "stream",
     "text": [
      "[[ 324   61  512]\n",
      " [   4  417  784]\n",
      " [  39  293 1302]]\n",
      "0.5468415417558886\n",
      "              precision    recall  f1-score   support\n",
      "\n",
      "     amazing       0.88      0.36      0.51       897\n",
      "      common       0.54      0.35      0.42      1205\n",
      "        good       0.50      0.80      0.62      1634\n",
      "\n",
      "   micro avg       0.55      0.55      0.55      3736\n",
      "   macro avg       0.64      0.50      0.52      3736\n",
      "weighted avg       0.61      0.55      0.53      3736\n",
      "\n"
     ]
    }
   ],
   "source": [
    "from sklearn.linear_model import RidgeClassifierCV\n",
    "rc = RidgeClassifierCV()\n",
    "rc.fit(X_train_p,y_train)\n",
    "from sklearn import metrics \n",
    "import numpy as np\n",
    "predicted = rc.predict(X_test_p)\n",
    "print(metrics.confusion_matrix(y_test, predicted))\n",
    "print(np.mean(predicted == y_test))\n",
    "print(metrics.classification_report(y_test, predicted))"
   ]
  },
  {
   "cell_type": "markdown",
   "metadata": {},
   "source": [
    "## Results"
   ]
  },
  {
   "cell_type": "code",
   "execution_count": 237,
   "metadata": {},
   "outputs": [],
   "source": [
    "import itertools\n",
    "import matplotlib.pyplot as plt\n",
    "def plot_confusion_matrix(cm, classes,\n",
    "                          normalize=False,\n",
    "                          title='Confusion matrix',\n",
    "                          cmap=plt.cm.Blues):\n",
    "    \"\"\"\n",
    "    This function prints and plots the confusion matrix.\n",
    "    Normalization can be applied by setting `normalize=True`.\n",
    "    \"\"\"\n",
    "    if normalize:\n",
    "        cm = cm.astype('float') / cm.sum(axis=0)[np.newaxis,:]\n",
    "        print(\"Normalized confusion matrix\")\n",
    "    else:\n",
    "        print('Confusion matrix, without normalization')\n",
    "\n",
    "    print(cm)\n",
    "\n",
    "    plt.imshow(cm, interpolation='nearest', cmap=cmap)\n",
    "    plt.title(title)\n",
    "    plt.colorbar()\n",
    "    tick_marks = np.arange(len(classes))\n",
    "    plt.xticks(tick_marks, classes, rotation=45)\n",
    "    plt.yticks(tick_marks, classes)\n",
    "\n",
    "    fmt = '.2f' if normalize else 'd'\n",
    "    thresh = cm.max() / 2.\n",
    "    for i, j in itertools.product(range(cm.shape[0]), range(cm.shape[1])):\n",
    "        plt.text(j, i, format(cm[i, j], fmt),\n",
    "                 horizontalalignment=\"center\",\n",
    "                 color=\"white\" if cm[i, j] > thresh else \"black\")\n",
    "\n",
    "    plt.tight_layout()\n",
    "    plt.ylabel('True label')\n",
    "    plt.xlabel('Predicted label')"
   ]
  },
  {
   "cell_type": "code",
   "execution_count": 294,
   "metadata": {},
   "outputs": [
    {
     "name": "stdout",
     "output_type": "stream",
     "text": [
      "Normalized confusion matrix\n",
      "[[0.88283379 0.07911803 0.19707467]\n",
      " [0.01089918 0.54085603 0.30177059]\n",
      " [0.10626703 0.38002594 0.50115473]]\n"
     ]
    },
    {
     "data": {
      "image/png": "[encoded data removed]",
      "text/plain": [
       "<Figure size 432x288 with 2 Axes>"
      ]
     },
     "metadata": {
      "needs_background": "light"
     },
     "output_type": "display_data"
    },
    {
     "data": {
      "text/plain": [
       "<Figure size 432x288 with 0 Axes>"
      ]
     },
     "metadata": {},
     "output_type": "display_data"
    }
   ],
   "source": [
    "plot_confusion_matrix(metrics.confusion_matrix(y_test, predicted), classes=['amazing','common','good'],\n",
    "                      normalize=True,title='Confusion matrix')\n",
    "plt.figure()\n",
    "plt.show()"
   ]
  },
  {
   "cell_type": "code",
   "execution_count": null,
   "metadata": {},
   "outputs": [],
   "source": []
  }
 ],
 "metadata": {
  "kernelspec": {
   "display_name": "Python 3",
   "language": "python",
   "name": "python3"
  },
  "language_info": {
   "codemirror_mode": {
    "name": "ipython",
    "version": 3
   },
   "file_extension": ".py",
   "mimetype": "text/x-python",
   "name": "python",
   "nbconvert_exporter": "python",
   "pygments_lexer": "ipython3",
   "version": "3.6.5"
  }
 },
 "nbformat": 4,
 "nbformat_minor": 2
}
