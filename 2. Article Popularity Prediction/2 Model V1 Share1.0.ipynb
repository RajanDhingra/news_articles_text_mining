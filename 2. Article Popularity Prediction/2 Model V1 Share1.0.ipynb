{
 "cells": [
  {
   "cell_type": "code",
   "execution_count": 9,
   "metadata": {},
   "outputs": [
    {
     "data": {
      "text/html": [
       "<div>\n",
       "<style scoped>\n",
       "    .dataframe tbody tr th:only-of-type {\n",
       "        vertical-align: middle;\n",
       "    }\n",
       "\n",
       "    .dataframe tbody tr th {\n",
       "        vertical-align: top;\n",
       "    }\n",
       "\n",
       "    .dataframe thead th {\n",
       "        text-align: right;\n",
       "    }\n",
       "</style>\n",
       "<table border=\"1\" class=\"dataframe\">\n",
       "  <thead>\n",
       "    <tr style=\"text-align: right;\">\n",
       "      <th></th>\n",
       "      <th>shares</th>\n",
       "      <th>content</th>\n",
       "    </tr>\n",
       "  </thead>\n",
       "  <tbody>\n",
       "    <tr>\n",
       "      <th>0</th>\n",
       "      <td>8600.0</td>\n",
       "      <td>image courtesy author image courtesy author se...</td>\n",
       "    </tr>\n",
       "    <tr>\n",
       "      <th>1</th>\n",
       "      <td>3800.0</td>\n",
       "      <td>photo bernard hermant unsplashphoto bernard he...</td>\n",
       "    </tr>\n",
       "    <tr>\n",
       "      <th>2</th>\n",
       "      <td>58.0</td>\n",
       "      <td>molly schwartzat midnight july hamza kwehangan...</td>\n",
       "    </tr>\n",
       "    <tr>\n",
       "      <th>3</th>\n",
       "      <td>583.0</td>\n",
       "      <td>quit facebook log app site online reasonable w...</td>\n",
       "    </tr>\n",
       "    <tr>\n",
       "      <th>4</th>\n",
       "      <td>497.0</td>\n",
       "      <td>chuchu company responsible widely view toddler...</td>\n",
       "    </tr>\n",
       "  </tbody>\n",
       "</table>\n",
       "</div>"
      ],
      "text/plain": [
       "   shares                                            content\n",
       "0  8600.0  image courtesy author image courtesy author se...\n",
       "1  3800.0  photo bernard hermant unsplashphoto bernard he...\n",
       "2    58.0  molly schwartzat midnight july hamza kwehangan...\n",
       "3   583.0  quit facebook log app site online reasonable w...\n",
       "4   497.0  chuchu company responsible widely view toddler..."
      ]
     },
     "execution_count": 9,
     "metadata": {},
     "output_type": "execute_result"
    }
   ],
   "source": [
    "import pandas as pd\n",
    "data = pd.read_csv('processed.csv',usecols = ['shares','content'])\n",
    "data.head()"
   ]
  },
  {
   "cell_type": "markdown",
   "metadata": {},
   "source": [
    "## Data\n",
    "### Use Noun & Verb"
   ]
  },
  {
   "cell_type": "code",
   "execution_count": 10,
   "metadata": {},
   "outputs": [],
   "source": [
    "#Use Noun & Verb\n",
    "import nltk\n",
    "def get_noun(text):\n",
    "    words=nltk.word_tokenize(text)\n",
    "    pos_tags =nltk.pos_tag(words)\n",
    "    ret = []\n",
    "    for word,pos in pos_tags:\n",
    "            if (pos == 'NN'or pos =='VB'):\n",
    "                ret.append(word)\n",
    "    return ' '.join(ret)\n",
    "text = data['content'].apply(get_noun)"
   ]
  },
  {
   "cell_type": "markdown",
   "metadata": {},
   "source": [
    "### Find optimal class"
   ]
  },
  {
   "cell_type": "code",
   "execution_count": 11,
   "metadata": {},
   "outputs": [
    {
     "data": {
      "image/png": "[encoded data removed]",
      "text/plain": [
       "<Figure size 432x288 with 1 Axes>"
      ]
     },
     "metadata": {
      "needs_background": "light"
     },
     "output_type": "display_data"
    }
   ],
   "source": [
    "import matplotlib.pyplot as plt\n",
    "plt.hist(data['shares'],bins=[0,100,1000,10000],rwidth=0.5)\n",
    "plt.xscale('log')\n",
    "plt.show()\n",
    "#so we divide shares into 3 cluster common,good,amazing"
   ]
  },
  {
   "cell_type": "code",
   "execution_count": 12,
   "metadata": {},
   "outputs": [],
   "source": [
    "def rating(shares):\n",
    "    if shares>=1000:\n",
    "        shares = 'amazing'\n",
    "    elif shares < 1000 and shares  >= 100:\n",
    "        shares = 'good'\n",
    "    elif shares  < 100:\n",
    "        shares = 'common'\n",
    "    return shares\n",
    "y = data['shares'].apply(rating)"
   ]
  },
  {
   "cell_type": "markdown",
   "metadata": {},
   "source": [
    "### Model"
   ]
  },
  {
   "cell_type": "code",
   "execution_count": 13,
   "metadata": {},
   "outputs": [],
   "source": [
    "from sklearn.feature_extraction.text import TfidfVectorizer, CountVectorizer\n",
    "from sklearn.preprocessing import Normalizer\n",
    "from sklearn.pipeline import make_pipeline"
   ]
  },
  {
   "cell_type": "code",
   "execution_count": 14,
   "metadata": {},
   "outputs": [
    {
     "name": "stdout",
     "output_type": "stream",
     "text": [
      "(8715,)\n",
      "(3736,)\n"
     ]
    }
   ],
   "source": [
    "from sklearn.model_selection import train_test_split\n",
    "X_train, X_test, y_train, y_test = train_test_split(text,y,test_size=0.3)\n",
    "print (X_train.shape)\n",
    "print (X_test.shape)"
   ]
  },
  {
   "cell_type": "code",
   "execution_count": 15,
   "metadata": {},
   "outputs": [
    {
     "data": {
      "text/plain": [
       "(8715, 67436)"
      ]
     },
     "execution_count": 15,
     "metadata": {},
     "output_type": "execute_result"
    }
   ],
   "source": [
    "from sklearn.feature_extraction.text import CountVectorizer\n",
    "count_vect = CountVectorizer()\n",
    "X = count_vect.fit_transform(X_train)\n",
    "X.shape"
   ]
  },
  {
   "cell_type": "code",
   "execution_count": 17,
   "metadata": {},
   "outputs": [
    {
     "data": {
      "text/plain": [
       "(8715, 67436)"
      ]
     },
     "execution_count": 17,
     "metadata": {},
     "output_type": "execute_result"
    }
   ],
   "source": [
    "from sklearn.feature_extraction.text import TfidfTransformer\n",
    "tf_transformer = TfidfTransformer()\n",
    "X_train_tf = tf_transformer.fit_transform(X)\n",
    "X_train_tf.shape"
   ]
  },
  {
   "cell_type": "code",
   "execution_count": 18,
   "metadata": {},
   "outputs": [],
   "source": [
    "from sklearn.ensemble import RandomForestClassifier\n",
    "from sklearn.pipeline import Pipeline\n",
    "text_clf = Pipeline([('vect', CountVectorizer(max_df=0.6,min_df=10)),\n",
    "                     ('tfidf', TfidfTransformer(use_idf=True)),\n",
    "                      ('clf', RandomForestClassifier()),\n",
    "                    ])"
   ]
  },
  {
   "cell_type": "code",
   "execution_count": 19,
   "metadata": {},
   "outputs": [
    {
     "name": "stderr",
     "output_type": "stream",
     "text": [
      "F:\\ANA\\lib\\site-packages\\sklearn\\ensemble\\forest.py:248: FutureWarning: The default value of n_estimators will change from 10 in version 0.20 to 100 in 0.22.\n",
      "  \"10 in version 0.20 to 100 in 0.22.\", FutureWarning)\n"
     ]
    },
    {
     "data": {
      "text/plain": [
       "Pipeline(memory=None,\n",
       "     steps=[('vect', CountVectorizer(analyzer='word', binary=False, decode_error='strict',\n",
       "        dtype=<class 'numpy.int64'>, encoding='utf-8', input='content',\n",
       "        lowercase=True, max_df=0.6, max_features=None, min_df=10,\n",
       "        ngram_range=(1, 1), preprocessor=None, stop_words=None,\n",
       "        stri...obs=None,\n",
       "            oob_score=False, random_state=None, verbose=0,\n",
       "            warm_start=False))])"
      ]
     },
     "execution_count": 19,
     "metadata": {},
     "output_type": "execute_result"
    }
   ],
   "source": [
    "text_clf.fit(X_train,y_train ) "
   ]
  },
  {
   "cell_type": "code",
   "execution_count": 20,
   "metadata": {},
   "outputs": [
    {
     "name": "stdout",
     "output_type": "stream",
     "text": [
      "[[244 194 457]\n",
      " [170 433 640]\n",
      " [261 473 864]]\n",
      "0.4124732334047109\n"
     ]
    }
   ],
   "source": [
    "import numpy as np\n",
    "from sklearn import metrics \n",
    "predicted = text_clf.predict(X_test)\n",
    "print(metrics.confusion_matrix(y_test, predicted))\n",
    "print(np.mean(predicted == y_test) )"
   ]
  },
  {
   "cell_type": "code",
   "execution_count": 21,
   "metadata": {},
   "outputs": [
    {
     "name": "stdout",
     "output_type": "stream",
     "text": [
      "[[309 223 363]\n",
      " [215 479 549]\n",
      " [353 514 731]]\n",
      "0.4065845824411135\n"
     ]
    }
   ],
   "source": [
    "from sklearn import tree\n",
    "text_clf = Pipeline([('vect', CountVectorizer(max_df=0.6,min_df=10)),\n",
    "                     ('tfidf', TfidfTransformer(use_idf=True)),\n",
    "                      ('clf', tree.DecisionTreeClassifier())\n",
    "                    ])\n",
    "text_clf.fit(X_train, y_train) \n",
    "predicted = text_clf.predict(X_test)\n",
    "\n",
    "print(metrics.confusion_matrix(y_test, predicted))\n",
    "print(np.mean(predicted == y_test) )"
   ]
  },
  {
   "cell_type": "code",
   "execution_count": 22,
   "metadata": {},
   "outputs": [
    {
     "name": "stderr",
     "output_type": "stream",
     "text": [
      "F:\\ANA\\lib\\site-packages\\sklearn\\linear_model\\stochastic_gradient.py:144: FutureWarning: max_iter and tol parameters have been added in SGDClassifier in 0.19. If both are left unset, they default to max_iter=5 and tol=None. If tol is not None, max_iter defaults to max_iter=1000. From 0.21, default max_iter will be 1000, and default tol will be 1e-3.\n",
      "  FutureWarning)\n"
     ]
    },
    {
     "name": "stdout",
     "output_type": "stream",
     "text": [
      "[[ 289   96  510]\n",
      " [  84  471  688]\n",
      " [ 148  320 1130]]\n",
      "0.5058886509635975\n",
      "              precision    recall  f1-score   support\n",
      "\n",
      "     amazing       0.55      0.32      0.41       895\n",
      "      common       0.53      0.38      0.44      1243\n",
      "        good       0.49      0.71      0.58      1598\n",
      "\n",
      "   micro avg       0.51      0.51      0.51      3736\n",
      "   macro avg       0.52      0.47      0.48      3736\n",
      "weighted avg       0.52      0.51      0.49      3736\n",
      "\n"
     ]
    }
   ],
   "source": [
    "from sklearn.linear_model import SGDClassifier\n",
    "text_clf = Pipeline([('vect', CountVectorizer(max_df=0.6,min_df=10)),\n",
    "                     ('tfidf', TfidfTransformer(use_idf=True)),\n",
    "                     ('clf', SGDClassifier(loss = 'log'))\n",
    "                    ])\n",
    "text_clf.fit(X_train, y_train)  \n",
    "predicted = text_clf.predict(X_test)\n",
    " \n",
    "print(metrics.confusion_matrix(y_test, predicted))\n",
    "print(np.mean(predicted == y_test) )\n",
    "print(metrics.classification_report(y_test, predicted))"
   ]
  },
  {
   "cell_type": "code",
   "execution_count": 28,
   "metadata": {},
   "outputs": [
    {
     "name": "stdout",
     "output_type": "stream",
     "text": [
      "[[ 218   61  616]\n",
      " [  55  382  806]\n",
      " [  98  225 1275]]\n",
      "0.5018736616702355\n",
      "              precision    recall  f1-score   support\n",
      "\n",
      "     amazing       0.59      0.24      0.34       895\n",
      "      common       0.57      0.31      0.40      1243\n",
      "        good       0.47      0.80      0.59      1598\n",
      "\n",
      "   micro avg       0.50      0.50      0.50      3736\n",
      "   macro avg       0.54      0.45      0.45      3736\n",
      "weighted avg       0.53      0.50      0.47      3736\n",
      "\n"
     ]
    }
   ],
   "source": [
    "from sklearn.linear_model import RidgeClassifierCV\n",
    "text_clf = Pipeline([('vect', CountVectorizer(max_df=0.6,min_df=10)),\n",
    "                     ('tfidf', TfidfTransformer(use_idf=True)),\n",
    "                     ('clf', RidgeClassifierCV())\n",
    "                    ])\n",
    "text_clf.fit(X_train, y_train)  \n",
    "predicted = text_clf.predict(X_test)\n",
    " \n",
    "print(metrics.confusion_matrix(y_test, predicted))\n",
    "print(np.mean(predicted == y_test) )\n",
    "print(metrics.classification_report(y_test, predicted))"
   ]
  },
  {
   "cell_type": "markdown",
   "metadata": {},
   "source": [
    "### Best Result\n",
    "#### After parament adjusted"
   ]
  },
  {
   "cell_type": "code",
   "execution_count": 23,
   "metadata": {},
   "outputs": [
    {
     "name": "stderr",
     "output_type": "stream",
     "text": [
      "F:\\ANA\\lib\\site-packages\\sklearn\\linear_model\\logistic.py:432: FutureWarning: Default solver will be changed to 'lbfgs' in 0.22. Specify a solver to silence this warning.\n",
      "  FutureWarning)\n",
      "F:\\ANA\\lib\\site-packages\\sklearn\\linear_model\\logistic.py:459: FutureWarning: Default multi_class will be changed to 'auto' in 0.22. Specify the multi_class option to silence this warning.\n",
      "  \"this warning.\", FutureWarning)\n"
     ]
    },
    {
     "name": "stdout",
     "output_type": "stream",
     "text": [
      "[[ 291   95  509]\n",
      " [  84  477  682]\n",
      " [ 144  317 1137]]\n",
      "0.5099036402569593\n",
      "              precision    recall  f1-score   support\n",
      "\n",
      "     amazing       0.56      0.33      0.41       895\n",
      "      common       0.54      0.38      0.45      1243\n",
      "        good       0.49      0.71      0.58      1598\n",
      "\n",
      "   micro avg       0.51      0.51      0.51      3736\n",
      "   macro avg       0.53      0.47      0.48      3736\n",
      "weighted avg       0.52      0.51      0.50      3736\n",
      "\n"
     ]
    }
   ],
   "source": [
    "from sklearn.linear_model import LogisticRegression\n",
    "text_clf = Pipeline([('vect', CountVectorizer(max_df=0.6,min_df=8)),\n",
    "                     ('tfidf', TfidfTransformer(use_idf=True)),\n",
    "                      ('clf', LogisticRegression())\n",
    "                    ])\n",
    "text_clf.fit(X_train, y_train) \n",
    "predicted = text_clf.predict(X_test)\n",
    "\n",
    "print(metrics.confusion_matrix(y_test, predicted))\n",
    "print(np.mean(predicted == y_test) )\n",
    "print(metrics.classification_report(y_test, predicted))"
   ]
  },
  {
   "cell_type": "code",
   "execution_count": 26,
   "metadata": {},
   "outputs": [],
   "source": [
    "import itertools\n",
    "import matplotlib.pyplot as plt\n",
    "def plot_confusion_matrix(cm, classes,\n",
    "                          normalize=False,\n",
    "                          title='Confusion matrix',\n",
    "                          cmap=plt.cm.Blues):\n",
    "    \"\"\"\n",
    "    This function prints and plots the confusion matrix.\n",
    "    Normalization can be applied by setting `normalize=True`.\n",
    "    \"\"\"\n",
    "    if normalize:\n",
    "        cm = cm.astype('float') / cm.sum(axis=0)[np.newaxis,:]\n",
    "        print(\"Normalized confusion matrix\")\n",
    "    else:\n",
    "        print('Confusion matrix, without normalization')\n",
    "\n",
    "    print(cm)\n",
    "\n",
    "    plt.imshow(cm, interpolation='nearest', cmap=cmap)\n",
    "    plt.title(title)\n",
    "    plt.colorbar()\n",
    "    tick_marks = np.arange(len(classes))\n",
    "    plt.xticks(tick_marks, classes, rotation=45)\n",
    "    plt.yticks(tick_marks, classes)\n",
    "\n",
    "    fmt = '.2f' if normalize else 'd'\n",
    "    thresh = cm.max() / 2.\n",
    "    for i, j in itertools.product(range(cm.shape[0]), range(cm.shape[1])):\n",
    "        plt.text(j, i, format(cm[i, j], fmt),\n",
    "                 horizontalalignment=\"center\",\n",
    "                 color=\"white\" if cm[i, j] > thresh else \"black\")\n",
    "\n",
    "    plt.tight_layout()\n",
    "    plt.ylabel('True label')\n",
    "    plt.xlabel('Predicted label')"
   ]
  },
  {
   "cell_type": "code",
   "execution_count": 27,
   "metadata": {},
   "outputs": [
    {
     "name": "stdout",
     "output_type": "stream",
     "text": [
      "Normalized confusion matrix\n",
      "[[0.56069364 0.10686164 0.21864261]\n",
      " [0.16184971 0.53655793 0.29295533]\n",
      " [0.27745665 0.35658043 0.48840206]]\n"
     ]
    },
    {
     "data": {
      "image/png": "[encoded data removed]",
      "text/plain": [
       "<Figure size 432x288 with 2 Axes>"
      ]
     },
     "metadata": {
      "needs_background": "light"
     },
     "output_type": "display_data"
    },
    {
     "data": {
      "text/plain": [
       "<Figure size 432x288 with 0 Axes>"
      ]
     },
     "metadata": {},
     "output_type": "display_data"
    }
   ],
   "source": [
    "plot_confusion_matrix(metrics.confusion_matrix(y_test, predicted), classes=['amazing','common','good'],\n",
    "                      normalize=True,title='Confusion matrix')\n",
    "plt.figure()\n",
    "plt.show()"
   ]
  },
  {
   "cell_type": "code",
   "execution_count": null,
   "metadata": {},
   "outputs": [],
   "source": []
  }
 ],
 "metadata": {
  "kernelspec": {
   "display_name": "Python 3",
   "language": "python",
   "name": "python3"
  },
  "language_info": {
   "codemirror_mode": {
    "name": "ipython",
    "version": 3
   },
   "file_extension": ".py",
   "mimetype": "text/x-python",
   "name": "python",
   "nbconvert_exporter": "python",
   "pygments_lexer": "ipython3",
   "version": "3.6.5"
  }
 },
 "nbformat": 4,
 "nbformat_minor": 2
}
