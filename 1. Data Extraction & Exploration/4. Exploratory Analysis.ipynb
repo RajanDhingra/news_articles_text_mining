{
 "cells": [
  {
   "cell_type": "code",
   "execution_count": 2,
   "metadata": {},
   "outputs": [],
   "source": [
    "import os\n",
    "import json\n",
    "import string\n",
    "import pandas as pd\n",
    "import nltk\n",
    "from nltk import word_tokenize, FreqDist\n",
    "from nltk.corpus import stopwords "
   ]
  },
  {
   "cell_type": "code",
   "execution_count": 3,
   "metadata": {},
   "outputs": [
    {
     "name": "stdout",
     "output_type": "stream",
     "text": [
      "Index(['Unnamed: 0', 'category', 'title', 'author', 'date', 'read_time',\n",
      "       'shares', 'content'],\n",
      "      dtype='object')\n"
     ]
    },
    {
     "data": {
      "text/html": [
       "<div>\n",
       "<style scoped>\n",
       "    .dataframe tbody tr th:only-of-type {\n",
       "        vertical-align: middle;\n",
       "    }\n",
       "\n",
       "    .dataframe tbody tr th {\n",
       "        vertical-align: top;\n",
       "    }\n",
       "\n",
       "    .dataframe thead th {\n",
       "        text-align: right;\n",
       "    }\n",
       "</style>\n",
       "<table border=\"1\" class=\"dataframe\">\n",
       "  <thead>\n",
       "    <tr style=\"text-align: right;\">\n",
       "      <th></th>\n",
       "      <th>Unnamed: 0</th>\n",
       "      <th>category</th>\n",
       "      <th>title</th>\n",
       "      <th>author</th>\n",
       "      <th>date</th>\n",
       "      <th>read_time</th>\n",
       "      <th>shares</th>\n",
       "      <th>content</th>\n",
       "    </tr>\n",
       "  </thead>\n",
       "  <tbody>\n",
       "    <tr>\n",
       "      <th>0</th>\n",
       "      <td>0</td>\n",
       "      <td>technology</td>\n",
       "      <td>From Clockworks to Computers on Our Wrists</td>\n",
       "      <td>Adrian Zumbrunnen</td>\n",
       "      <td>Sep 20</td>\n",
       "      <td>8 min read</td>\n",
       "      <td>8600.0</td>\n",
       "      <td>Image courtesy of the author.Image courtesy of...</td>\n",
       "    </tr>\n",
       "    <tr>\n",
       "      <th>1</th>\n",
       "      <td>1</td>\n",
       "      <td>technology</td>\n",
       "      <td>A Modest Privacy Protection Proposal</td>\n",
       "      <td>Jameson Lopp</td>\n",
       "      <td>Sep 29</td>\n",
       "      <td>31 min read</td>\n",
       "      <td>3800.0</td>\n",
       "      <td>Photo: Bernard Hermant/UnsplashPhoto: Bernard ...</td>\n",
       "    </tr>\n",
       "  </tbody>\n",
       "</table>\n",
       "</div>"
      ],
      "text/plain": [
       "   Unnamed: 0    category                                       title  \\\n",
       "0           0  technology  From Clockworks to Computers on Our Wrists   \n",
       "1           1  technology        A Modest Privacy Protection Proposal   \n",
       "\n",
       "              author    date    read_time  shares  \\\n",
       "0  Adrian Zumbrunnen  Sep 20   8 min read  8600.0   \n",
       "1       Jameson Lopp  Sep 29  31 min read  3800.0   \n",
       "\n",
       "                                             content  \n",
       "0  Image courtesy of the author.Image courtesy of...  \n",
       "1  Photo: Bernard Hermant/UnsplashPhoto: Bernard ...  "
      ]
     },
     "execution_count": 3,
     "metadata": {},
     "output_type": "execute_result"
    }
   ],
   "source": [
    "data = pd.read_csv(\"D:/Text_Mining/Day2/Day2_workshop/articles.csv\")\n",
    "print(data.columns)\n",
    "data.head(2)"
   ]
  },
  {
   "cell_type": "code",
   "execution_count": 4,
   "metadata": {},
   "outputs": [
    {
     "data": {
      "text/plain": [
       "array(['technology', 'design', 'culture', 'politics', 'entrepre',\n",
       "       'science', 'self', 'popular'], dtype=object)"
      ]
     },
     "execution_count": 4,
     "metadata": {},
     "output_type": "execute_result"
    }
   ],
   "source": [
    "data['category'].unique()"
   ]
  },
  {
   "cell_type": "code",
   "execution_count": 5,
   "metadata": {},
   "outputs": [
    {
     "data": {
      "text/html": [
       "<div>\n",
       "<style scoped>\n",
       "    .dataframe tbody tr th:only-of-type {\n",
       "        vertical-align: middle;\n",
       "    }\n",
       "\n",
       "    .dataframe tbody tr th {\n",
       "        vertical-align: top;\n",
       "    }\n",
       "\n",
       "    .dataframe thead th {\n",
       "        text-align: right;\n",
       "    }\n",
       "</style>\n",
       "<table border=\"1\" class=\"dataframe\">\n",
       "  <thead>\n",
       "    <tr style=\"text-align: right;\">\n",
       "      <th></th>\n",
       "      <th>Unnamed: 0</th>\n",
       "      <th>shares</th>\n",
       "    </tr>\n",
       "    <tr>\n",
       "      <th>category</th>\n",
       "      <th></th>\n",
       "      <th></th>\n",
       "    </tr>\n",
       "  </thead>\n",
       "  <tbody>\n",
       "    <tr>\n",
       "      <th>culture</th>\n",
       "      <td>4283.0</td>\n",
       "      <td>1030.625968</td>\n",
       "    </tr>\n",
       "    <tr>\n",
       "      <th>design</th>\n",
       "      <td>2795.5</td>\n",
       "      <td>1762.658416</td>\n",
       "    </tr>\n",
       "    <tr>\n",
       "      <th>entrepre</th>\n",
       "      <td>8406.0</td>\n",
       "      <td>1358.711089</td>\n",
       "    </tr>\n",
       "    <tr>\n",
       "      <th>politics</th>\n",
       "      <td>6777.0</td>\n",
       "      <td>500.257367</td>\n",
       "    </tr>\n",
       "    <tr>\n",
       "      <th>popular</th>\n",
       "      <td>13368.0</td>\n",
       "      <td>11350.933695</td>\n",
       "    </tr>\n",
       "    <tr>\n",
       "      <th>science</th>\n",
       "      <td>9564.5</td>\n",
       "      <td>843.105305</td>\n",
       "    </tr>\n",
       "    <tr>\n",
       "      <th>self</th>\n",
       "      <td>11370.5</td>\n",
       "      <td>1706.276770</td>\n",
       "    </tr>\n",
       "    <tr>\n",
       "      <th>technology</th>\n",
       "      <td>1346.5</td>\n",
       "      <td>1343.112608</td>\n",
       "    </tr>\n",
       "  </tbody>\n",
       "</table>\n",
       "</div>"
      ],
      "text/plain": [
       "            Unnamed: 0        shares\n",
       "category                            \n",
       "culture         4283.0   1030.625968\n",
       "design          2795.5   1762.658416\n",
       "entrepre        8406.0   1358.711089\n",
       "politics        6777.0    500.257367\n",
       "popular        13368.0  11350.933695\n",
       "science         9564.5    843.105305\n",
       "self           11370.5   1706.276770\n",
       "technology      1346.5   1343.112608"
      ]
     },
     "execution_count": 5,
     "metadata": {},
     "output_type": "execute_result"
    }
   ],
   "source": [
    "group_by_category = data.groupby(by=['category'])\n",
    "data_avg = group_by_category.mean()\n",
    "data_avg\n"
   ]
  },
  {
   "cell_type": "code",
   "execution_count": 6,
   "metadata": {},
   "outputs": [
    {
     "data": {
      "text/html": [
       "<div>\n",
       "<style scoped>\n",
       "    .dataframe tbody tr th:only-of-type {\n",
       "        vertical-align: middle;\n",
       "    }\n",
       "\n",
       "    .dataframe tbody tr th {\n",
       "        vertical-align: top;\n",
       "    }\n",
       "\n",
       "    .dataframe thead th {\n",
       "        text-align: right;\n",
       "    }\n",
       "</style>\n",
       "<table border=\"1\" class=\"dataframe\">\n",
       "  <thead>\n",
       "    <tr style=\"text-align: right;\">\n",
       "      <th></th>\n",
       "      <th>Unnamed: 0</th>\n",
       "      <th>title</th>\n",
       "      <th>author</th>\n",
       "      <th>date</th>\n",
       "      <th>read_time</th>\n",
       "      <th>shares</th>\n",
       "      <th>content</th>\n",
       "    </tr>\n",
       "    <tr>\n",
       "      <th>category</th>\n",
       "      <th></th>\n",
       "      <th></th>\n",
       "      <th></th>\n",
       "      <th></th>\n",
       "      <th></th>\n",
       "      <th></th>\n",
       "      <th></th>\n",
       "    </tr>\n",
       "  </thead>\n",
       "  <tbody>\n",
       "    <tr>\n",
       "      <th>culture</th>\n",
       "      <td>2771</td>\n",
       "      <td>2756</td>\n",
       "      <td>2771</td>\n",
       "      <td>2771</td>\n",
       "      <td>2766</td>\n",
       "      <td>2711</td>\n",
       "      <td>2762</td>\n",
       "    </tr>\n",
       "    <tr>\n",
       "      <th>design</th>\n",
       "      <td>204</td>\n",
       "      <td>204</td>\n",
       "      <td>204</td>\n",
       "      <td>204</td>\n",
       "      <td>204</td>\n",
       "      <td>202</td>\n",
       "      <td>203</td>\n",
       "    </tr>\n",
       "    <tr>\n",
       "      <th>entrepre</th>\n",
       "      <td>1041</td>\n",
       "      <td>1041</td>\n",
       "      <td>1041</td>\n",
       "      <td>1041</td>\n",
       "      <td>1039</td>\n",
       "      <td>1028</td>\n",
       "      <td>1041</td>\n",
       "    </tr>\n",
       "    <tr>\n",
       "      <th>politics</th>\n",
       "      <td>2217</td>\n",
       "      <td>2214</td>\n",
       "      <td>2217</td>\n",
       "      <td>2217</td>\n",
       "      <td>2210</td>\n",
       "      <td>2036</td>\n",
       "      <td>2213</td>\n",
       "    </tr>\n",
       "    <tr>\n",
       "      <th>popular</th>\n",
       "      <td>1659</td>\n",
       "      <td>1651</td>\n",
       "      <td>1659</td>\n",
       "      <td>1659</td>\n",
       "      <td>1659</td>\n",
       "      <td>1659</td>\n",
       "      <td>1653</td>\n",
       "    </tr>\n",
       "    <tr>\n",
       "      <th>science</th>\n",
       "      <td>1276</td>\n",
       "      <td>1276</td>\n",
       "      <td>1276</td>\n",
       "      <td>1276</td>\n",
       "      <td>1274</td>\n",
       "      <td>1263</td>\n",
       "      <td>1276</td>\n",
       "    </tr>\n",
       "    <tr>\n",
       "      <th>self</th>\n",
       "      <td>2336</td>\n",
       "      <td>2330</td>\n",
       "      <td>2336</td>\n",
       "      <td>2336</td>\n",
       "      <td>2333</td>\n",
       "      <td>2316</td>\n",
       "      <td>2335</td>\n",
       "    </tr>\n",
       "    <tr>\n",
       "      <th>technology</th>\n",
       "      <td>2694</td>\n",
       "      <td>2689</td>\n",
       "      <td>2694</td>\n",
       "      <td>2694</td>\n",
       "      <td>2694</td>\n",
       "      <td>2673</td>\n",
       "      <td>2693</td>\n",
       "    </tr>\n",
       "  </tbody>\n",
       "</table>\n",
       "</div>"
      ],
      "text/plain": [
       "            Unnamed: 0  title  author  date  read_time  shares  content\n",
       "category                                                               \n",
       "culture           2771   2756    2771  2771       2766    2711     2762\n",
       "design             204    204     204   204        204     202      203\n",
       "entrepre          1041   1041    1041  1041       1039    1028     1041\n",
       "politics          2217   2214    2217  2217       2210    2036     2213\n",
       "popular           1659   1651    1659  1659       1659    1659     1653\n",
       "science           1276   1276    1276  1276       1274    1263     1276\n",
       "self              2336   2330    2336  2336       2333    2316     2335\n",
       "technology        2694   2689    2694  2694       2694    2673     2693"
      ]
     },
     "execution_count": 6,
     "metadata": {},
     "output_type": "execute_result"
    }
   ],
   "source": [
    "data_count = group_by_category.count()\n",
    "data_count"
   ]
  },
  {
   "cell_type": "code",
   "execution_count": 48,
   "metadata": {},
   "outputs": [],
   "source": [
    "import matplotlib.pyplot as plt\n",
    "import numpy as np\n",
    "%matplotlib inline"
   ]
  },
  {
   "cell_type": "code",
   "execution_count": 49,
   "metadata": {},
   "outputs": [],
   "source": [
    "data = data[data['category'] != 'popular']\n",
    "data = data[data['category'] != 'design']\n"
   ]
  },
  {
   "cell_type": "code",
   "execution_count": 74,
   "metadata": {},
   "outputs": [
    {
     "data": {
      "image/png": "[encoded data removed]",
      "text/plain": [
       "<Figure size 432x288 with 1 Axes>"
      ]
     },
     "metadata": {},
     "output_type": "display_data"
    }
   ],
   "source": [
    "data.boxplot(column=\"shares\",by=\"category\")\n",
    "plt.ylabel(\"\")\n",
    "plt.suptitle(\"\")\n",
    "plt.show()"
   ]
  },
  {
   "cell_type": "code",
   "execution_count": 10,
   "metadata": {},
   "outputs": [
    {
     "data": {
      "text/plain": [
       "Unnamed: 0      0\n",
       "category        0\n",
       "title          37\n",
       "author          0\n",
       "date            0\n",
       "read_time      19\n",
       "shares        310\n",
       "content        22\n",
       "dtype: int64"
      ]
     },
     "execution_count": 10,
     "metadata": {},
     "output_type": "execute_result"
    }
   ],
   "source": [
    "data.isnull().sum()"
   ]
  },
  {
   "cell_type": "code",
   "execution_count": 47,
   "metadata": {},
   "outputs": [
    {
     "name": "stderr",
     "output_type": "stream",
     "text": [
      "C:\\Users\\Keerthana\\Anaconda3\\lib\\site-packages\\matplotlib\\cbook\\deprecation.py:107: MatplotlibDeprecationWarning: Passing one of 'on', 'true', 'off', 'false' as a boolean is deprecated; use an actual boolean (True/False) instead.\n",
      "  warnings.warn(message, mplDeprecation, stacklevel=1)\n"
     ]
    },
    {
     "data": {
      "image/png": "[encoded data removed]",
      "text/plain": [
       "<Figure size 720x360 with 1 Axes>"
      ]
     },
     "metadata": {},
     "output_type": "display_data"
    }
   ],
   "source": [
    "axes = data.boxplot(column='shares',by='category', figsize=(10,5),\n",
    "                   whis=[5,95],grid='False')\n",
    "plt.ylim(0,2000)\n",
    "#plt.title(\"Boxplot of shares by category\")\n",
    "plt.show()"
   ]
  },
  {
   "cell_type": "code",
   "execution_count": 38,
   "metadata": {},
   "outputs": [],
   "source": [
    "group_by_category = data.groupby(by=['author'])\n",
    "data_avg = group_by_category.mean()\n",
    "top_authors = data_avg.shares.sort_values(ascending=False)\n",
    "top = top_authors[1:10] "
   ]
  },
  {
   "cell_type": "code",
   "execution_count": 97,
   "metadata": {},
   "outputs": [
    {
     "data": {
      "text/plain": [
       "author\n",
       "Popular Science            220\n",
       "The New York Times         197\n",
       "Bloomberg                  194\n",
       "MIT Technology Review      147\n",
       "Fast Company               137\n",
       "The Financial Times        136\n",
       "The Economist              122\n",
       "Rolling Stone              110\n",
       "umair haque                103\n",
       "Washington Post            103\n",
       "Forbes                      97\n",
       "Ethan Siegel                92\n",
       "inc. magazine               81\n",
       "The Guardian                76\n",
       "Bloomberg View              73\n",
       "New York Times Magazine     69\n",
       "Future Human                69\n",
       "Great Escape                66\n",
       "ACLU National               64\n",
       "Foreign Policy              64\n",
       "Yitzi Weiner                63\n",
       "Lance Ulanoff               60\n",
       "The Edge of Adulthood       56\n",
       "The Atlantic                56\n",
       "Miles Klee                  52\n",
       "PCMag                       52\n",
       "Kris Gage                   50\n",
       "Zat Rana                    46\n",
       "Ezinne Ukoha                45\n",
       "Michael K. Spencer          42\n",
       "                          ... \n",
       "Maritta Katerelou            1\n",
       "Marion Durand                1\n",
       "Marcus Bergh                 1\n",
       "Marcus Cobb                  1\n",
       "Marie Atkins                 1\n",
       "Mario Bojilov                1\n",
       "Marcus Macgregor             1\n",
       "Marija Neshkoska             1\n",
       "Peter Kuper                  0\n",
       "Rita Sapunor                 0\n",
       "Ivan Maisel                  0\n",
       "the laughtivist              0\n",
       "Addria Olson                 0\n",
       "John Herrman                 0\n",
       "Aubrey Nolan                 0\n",
       "Eric Puchner                 0\n",
       "Neil Turkewitz               0\n",
       "Ciarra Jones                 0\n",
       "Elizabeth Rosen              0\n",
       "Allison Jane Smith           0\n",
       "Delilah Friedler             0\n",
       "Future Makers                0\n",
       "Abigail Higgins              0\n",
       "Bartholomew Fish             0\n",
       "Jenny Jedeikin               0\n",
       "Kent Rollins                 0\n",
       "Mary H.K. Choi               0\n",
       "Michael Bailey               0\n",
       "Charlotte Broad              0\n",
       "Clemantine Wamariya          0\n",
       "Name: title, Length: 5740, dtype: int64"
      ]
     },
     "execution_count": 97,
     "metadata": {},
     "output_type": "execute_result"
    }
   ],
   "source": [
    "group_by_category = data.groupby(by=['author'])\n",
    "data_count = group_by_category.count()\n",
    "data_count.title.sort_values(ascending=False)\n"
   ]
  },
  {
   "cell_type": "code",
   "execution_count": 14,
   "metadata": {},
   "outputs": [],
   "source": [
    "authors_data = data.groupby('author')\\\n",
    "                .agg({'title':'count','shares':'mean'})\\\n",
    "                .rename(columns={'title':'Count','shares':'Average'})\\\n",
    "                .reset_index()\n"
   ]
  },
  {
   "cell_type": "code",
   "execution_count": 15,
   "metadata": {},
   "outputs": [
    {
     "data": {
      "text/html": [
       "<div>\n",
       "<style scoped>\n",
       "    .dataframe tbody tr th:only-of-type {\n",
       "        vertical-align: middle;\n",
       "    }\n",
       "\n",
       "    .dataframe tbody tr th {\n",
       "        vertical-align: top;\n",
       "    }\n",
       "\n",
       "    .dataframe thead th {\n",
       "        text-align: right;\n",
       "    }\n",
       "</style>\n",
       "<table border=\"1\" class=\"dataframe\">\n",
       "  <thead>\n",
       "    <tr style=\"text-align: right;\">\n",
       "      <th></th>\n",
       "      <th>author</th>\n",
       "      <th>Count</th>\n",
       "      <th>Average</th>\n",
       "    </tr>\n",
       "  </thead>\n",
       "  <tbody>\n",
       "    <tr>\n",
       "      <th>2292</th>\n",
       "      <td>James Bridle</td>\n",
       "      <td>1</td>\n",
       "      <td>172000.0</td>\n",
       "    </tr>\n",
       "    <tr>\n",
       "      <th>1355</th>\n",
       "      <td>David Hopkins</td>\n",
       "      <td>1</td>\n",
       "      <td>171000.0</td>\n",
       "    </tr>\n",
       "    <tr>\n",
       "      <th>89</th>\n",
       "      <td>Adam Wathan &amp; Steve Schoger</td>\n",
       "      <td>1</td>\n",
       "      <td>164000.0</td>\n",
       "    </tr>\n",
       "    <tr>\n",
       "      <th>4438</th>\n",
       "      <td>Richard Reis</td>\n",
       "      <td>1</td>\n",
       "      <td>135000.0</td>\n",
       "    </tr>\n",
       "    <tr>\n",
       "      <th>5336</th>\n",
       "      <td>Tristan Harris</td>\n",
       "      <td>2</td>\n",
       "      <td>111000.0</td>\n",
       "    </tr>\n",
       "    <tr>\n",
       "      <th>2697</th>\n",
       "      <td>Jonathan Solórzano-Hamilton</td>\n",
       "      <td>1</td>\n",
       "      <td>111000.0</td>\n",
       "    </tr>\n",
       "    <tr>\n",
       "      <th>865</th>\n",
       "      <td>CamMi Pham</td>\n",
       "      <td>2</td>\n",
       "      <td>104000.0</td>\n",
       "    </tr>\n",
       "    <tr>\n",
       "      <th>4712</th>\n",
       "      <td>Scott Riddle</td>\n",
       "      <td>1</td>\n",
       "      <td>104000.0</td>\n",
       "    </tr>\n",
       "    <tr>\n",
       "      <th>959</th>\n",
       "      <td>Charles Scalfani</td>\n",
       "      <td>2</td>\n",
       "      <td>91000.0</td>\n",
       "    </tr>\n",
       "  </tbody>\n",
       "</table>\n",
       "</div>"
      ],
      "text/plain": [
       "                           author  Count   Average\n",
       "2292                 James Bridle      1  172000.0\n",
       "1355                David Hopkins      1  171000.0\n",
       "89    Adam Wathan & Steve Schoger      1  164000.0\n",
       "4438                 Richard Reis      1  135000.0\n",
       "5336               Tristan Harris      2  111000.0\n",
       "2697  Jonathan Solórzano-Hamilton      1  111000.0\n",
       "865                    CamMi Pham      2  104000.0\n",
       "4712                 Scott Riddle      1  104000.0\n",
       "959              Charles Scalfani      2   91000.0"
      ]
     },
     "execution_count": 15,
     "metadata": {},
     "output_type": "execute_result"
    }
   ],
   "source": [
    "sort_authors = authors_data.sort_values('Average',ascending=False)\n",
    "sort_authors[1:10]"
   ]
  },
  {
   "cell_type": "code",
   "execution_count": 114,
   "metadata": {},
   "outputs": [
    {
     "data": {
      "text/html": [
       "<div>\n",
       "<style scoped>\n",
       "    .dataframe tbody tr th:only-of-type {\n",
       "        vertical-align: middle;\n",
       "    }\n",
       "\n",
       "    .dataframe tbody tr th {\n",
       "        vertical-align: top;\n",
       "    }\n",
       "\n",
       "    .dataframe thead th {\n",
       "        text-align: right;\n",
       "    }\n",
       "</style>\n",
       "<table border=\"1\" class=\"dataframe\">\n",
       "  <thead>\n",
       "    <tr style=\"text-align: right;\">\n",
       "      <th></th>\n",
       "      <th>author</th>\n",
       "      <th>Count</th>\n",
       "      <th>Average</th>\n",
       "    </tr>\n",
       "  </thead>\n",
       "  <tbody>\n",
       "    <tr>\n",
       "      <th>5155</th>\n",
       "      <td>The New York Times</td>\n",
       "      <td>197</td>\n",
       "      <td>361.807107</td>\n",
       "    </tr>\n",
       "    <tr>\n",
       "      <th>703</th>\n",
       "      <td>Bloomberg</td>\n",
       "      <td>194</td>\n",
       "      <td>240.948187</td>\n",
       "    </tr>\n",
       "    <tr>\n",
       "      <th>3332</th>\n",
       "      <td>MIT Technology Review</td>\n",
       "      <td>147</td>\n",
       "      <td>818.625850</td>\n",
       "    </tr>\n",
       "    <tr>\n",
       "      <th>1809</th>\n",
       "      <td>Fast Company</td>\n",
       "      <td>137</td>\n",
       "      <td>347.135338</td>\n",
       "    </tr>\n",
       "    <tr>\n",
       "      <th>5128</th>\n",
       "      <td>The Financial Times</td>\n",
       "      <td>136</td>\n",
       "      <td>603.154412</td>\n",
       "    </tr>\n",
       "    <tr>\n",
       "      <th>5124</th>\n",
       "      <td>The Economist</td>\n",
       "      <td>122</td>\n",
       "      <td>893.073770</td>\n",
       "    </tr>\n",
       "    <tr>\n",
       "      <th>4510</th>\n",
       "      <td>Rolling Stone</td>\n",
       "      <td>110</td>\n",
       "      <td>374.254545</td>\n",
       "    </tr>\n",
       "    <tr>\n",
       "      <th>5480</th>\n",
       "      <td>Washington Post</td>\n",
       "      <td>103</td>\n",
       "      <td>1122.126214</td>\n",
       "    </tr>\n",
       "    <tr>\n",
       "      <th>5726</th>\n",
       "      <td>umair haque</td>\n",
       "      <td>103</td>\n",
       "      <td>4597.766990</td>\n",
       "    </tr>\n",
       "  </tbody>\n",
       "</table>\n",
       "</div>"
      ],
      "text/plain": [
       "                     author  Count      Average\n",
       "5155     The New York Times    197   361.807107\n",
       "703               Bloomberg    194   240.948187\n",
       "3332  MIT Technology Review    147   818.625850\n",
       "1809           Fast Company    137   347.135338\n",
       "5128    The Financial Times    136   603.154412\n",
       "5124          The Economist    122   893.073770\n",
       "4510          Rolling Stone    110   374.254545\n",
       "5480        Washington Post    103  1122.126214\n",
       "5726            umair haque    103  4597.766990"
      ]
     },
     "execution_count": 114,
     "metadata": {},
     "output_type": "execute_result"
    }
   ],
   "source": [
    "sort_count_authors = authors_data.sort_values('Count',ascending=False)\n",
    "sort_count_authors[1:10]"
   ]
  }
 ],
 "metadata": {
  "kernelspec": {
   "display_name": "Python 3",
   "language": "python",
   "name": "python3"
  },
  "language_info": {
   "codemirror_mode": {
    "name": "ipython",
    "version": 3
   },
   "file_extension": ".py",
   "mimetype": "text/x-python",
   "name": "python",
   "nbconvert_exporter": "python",
   "pygments_lexer": "ipython3",
   "version": "3.6.5"
  }
 },
 "nbformat": 4,
 "nbformat_minor": 2
}
